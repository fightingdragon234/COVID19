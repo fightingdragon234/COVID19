{
 "cells": [
  {
   "cell_type": "code",
   "execution_count": 15,
   "metadata": {},
   "outputs": [],
   "source": [
    "import pandas as pd\n",
    "import matplotlib.pyplot as plt"
   ]
  },
  {
   "cell_type": "code",
   "execution_count": 16,
   "metadata": {},
   "outputs": [],
   "source": [
    "nytimes_dat = 'https://raw.githubusercontent.com/nytimes/covid-19-data/master/us-states.csv'\n",
    "dat = pd.read_csv(nytimes_dat, error_bad_lines=False)"
   ]
  },
  {
   "cell_type": "code",
   "execution_count": 17,
   "metadata": {},
   "outputs": [
    {
     "data": {
      "text/plain": [
       "(2105, 5)"
      ]
     },
     "execution_count": 17,
     "metadata": {},
     "output_type": "execute_result"
    }
   ],
   "source": [
    "dat.shape"
   ]
  },
  {
   "cell_type": "code",
   "execution_count": 18,
   "metadata": {
    "scrolled": true
   },
   "outputs": [
    {
     "data": {
      "text/html": [
       "<div>\n",
       "<style scoped>\n",
       "    .dataframe tbody tr th:only-of-type {\n",
       "        vertical-align: middle;\n",
       "    }\n",
       "\n",
       "    .dataframe tbody tr th {\n",
       "        vertical-align: top;\n",
       "    }\n",
       "\n",
       "    .dataframe thead th {\n",
       "        text-align: right;\n",
       "    }\n",
       "</style>\n",
       "<table border=\"1\" class=\"dataframe\">\n",
       "  <thead>\n",
       "    <tr style=\"text-align: right;\">\n",
       "      <th></th>\n",
       "      <th>date</th>\n",
       "      <th>state</th>\n",
       "      <th>fips</th>\n",
       "      <th>cases</th>\n",
       "      <th>deaths</th>\n",
       "    </tr>\n",
       "  </thead>\n",
       "  <tbody>\n",
       "    <tr>\n",
       "      <td>0</td>\n",
       "      <td>2020-01-21</td>\n",
       "      <td>Washington</td>\n",
       "      <td>53</td>\n",
       "      <td>1</td>\n",
       "      <td>0</td>\n",
       "    </tr>\n",
       "    <tr>\n",
       "      <td>1</td>\n",
       "      <td>2020-01-22</td>\n",
       "      <td>Washington</td>\n",
       "      <td>53</td>\n",
       "      <td>1</td>\n",
       "      <td>0</td>\n",
       "    </tr>\n",
       "    <tr>\n",
       "      <td>2</td>\n",
       "      <td>2020-01-23</td>\n",
       "      <td>Washington</td>\n",
       "      <td>53</td>\n",
       "      <td>1</td>\n",
       "      <td>0</td>\n",
       "    </tr>\n",
       "    <tr>\n",
       "      <td>3</td>\n",
       "      <td>2020-01-24</td>\n",
       "      <td>Illinois</td>\n",
       "      <td>17</td>\n",
       "      <td>1</td>\n",
       "      <td>0</td>\n",
       "    </tr>\n",
       "    <tr>\n",
       "      <td>4</td>\n",
       "      <td>2020-01-24</td>\n",
       "      <td>Washington</td>\n",
       "      <td>53</td>\n",
       "      <td>1</td>\n",
       "      <td>0</td>\n",
       "    </tr>\n",
       "    <tr>\n",
       "      <td>...</td>\n",
       "      <td>...</td>\n",
       "      <td>...</td>\n",
       "      <td>...</td>\n",
       "      <td>...</td>\n",
       "      <td>...</td>\n",
       "    </tr>\n",
       "    <tr>\n",
       "      <td>2100</td>\n",
       "      <td>2020-04-09</td>\n",
       "      <td>Virginia</td>\n",
       "      <td>51</td>\n",
       "      <td>4042</td>\n",
       "      <td>109</td>\n",
       "    </tr>\n",
       "    <tr>\n",
       "      <td>2101</td>\n",
       "      <td>2020-04-09</td>\n",
       "      <td>Washington</td>\n",
       "      <td>53</td>\n",
       "      <td>9608</td>\n",
       "      <td>478</td>\n",
       "    </tr>\n",
       "    <tr>\n",
       "      <td>2102</td>\n",
       "      <td>2020-04-09</td>\n",
       "      <td>West Virginia</td>\n",
       "      <td>54</td>\n",
       "      <td>524</td>\n",
       "      <td>5</td>\n",
       "    </tr>\n",
       "    <tr>\n",
       "      <td>2103</td>\n",
       "      <td>2020-04-09</td>\n",
       "      <td>Wisconsin</td>\n",
       "      <td>55</td>\n",
       "      <td>2885</td>\n",
       "      <td>116</td>\n",
       "    </tr>\n",
       "    <tr>\n",
       "      <td>2104</td>\n",
       "      <td>2020-04-09</td>\n",
       "      <td>Wyoming</td>\n",
       "      <td>56</td>\n",
       "      <td>239</td>\n",
       "      <td>0</td>\n",
       "    </tr>\n",
       "  </tbody>\n",
       "</table>\n",
       "<p>2105 rows × 5 columns</p>\n",
       "</div>"
      ],
      "text/plain": [
       "            date          state  fips  cases  deaths\n",
       "0     2020-01-21     Washington    53      1       0\n",
       "1     2020-01-22     Washington    53      1       0\n",
       "2     2020-01-23     Washington    53      1       0\n",
       "3     2020-01-24       Illinois    17      1       0\n",
       "4     2020-01-24     Washington    53      1       0\n",
       "...          ...            ...   ...    ...     ...\n",
       "2100  2020-04-09       Virginia    51   4042     109\n",
       "2101  2020-04-09     Washington    53   9608     478\n",
       "2102  2020-04-09  West Virginia    54    524       5\n",
       "2103  2020-04-09      Wisconsin    55   2885     116\n",
       "2104  2020-04-09        Wyoming    56    239       0\n",
       "\n",
       "[2105 rows x 5 columns]"
      ]
     },
     "execution_count": 18,
     "metadata": {},
     "output_type": "execute_result"
    }
   ],
   "source": [
    "dat"
   ]
  },
  {
   "cell_type": "code",
   "execution_count": 23,
   "metadata": {},
   "outputs": [
    {
     "name": "stderr",
     "output_type": "stream",
     "text": [
      "/Users/baoqiangcao/opt/anaconda3/lib/python3.7/site-packages/ipykernel_launcher.py:16: RuntimeWarning: invalid value encountered in long_scalars\n",
      "  app.launch_new_instance()\n"
     ]
    },
    {
     "data": {
      "image/png": "[encoded data removed]",
      "text/plain": [
       "<Figure size 432x288 with 1 Axes>"
      ]
     },
     "metadata": {
      "needs_background": "light"
     },
     "output_type": "display_data"
    }
   ],
   "source": [
    "states=[]\n",
    "for i in range(dat.shape[0]):\n",
    "    if dat.iloc[i,1] not in states:\n",
    "        states.append(dat.iloc[i,1])\n",
    "   \n",
    "    creeper=0\n",
    "d=len(states)\n",
    "for u in range(d):\n",
    "    dat_state = []\n",
    "    dat_deaths=[]\n",
    "    dat_rate = []\n",
    "    for i in range(dat.shape[0]):\n",
    "        if dat.iloc[i,1] == states[u]:\n",
    "            dat_state.append(dat.iloc[i, 3]) \n",
    "            dat_deaths.append(dat.iloc[i,4])\n",
    "            dat_rate.append(dat.iloc[i,4]/dat.iloc[i,3])\n",
    "            \n",
    "            \n",
    "    plt.plot(dat_rate)\n",
    "    plt.ylabel('Test Positive Cases')\n",
    "    #plt.title(states[u])\n",
    "\n",
    "plt.show()"
   ]
  },
  {
   "cell_type": "code",
   "execution_count": null,
   "metadata": {},
   "outputs": [],
   "source": [
    "plt.plot(dat_state)\n",
    "plt.plot(dat_deaths)"
   ]
  },
  {
   "cell_type": "code",
   "execution_count": null,
   "metadata": {},
   "outputs": [],
   "source": [
    "d"
   ]
  },
  {
   "cell_type": "code",
   "execution_count": null,
   "metadata": {},
   "outputs": [],
   "source": [
    "awman"
   ]
  },
  {
   "cell_type": "code",
   "execution_count": null,
   "metadata": {},
   "outputs": [],
   "source": [
    "creeper"
   ]
  },
  {
   "cell_type": "code",
   "execution_count": 9,
   "metadata": {},
   "outputs": [],
   "source": [
    "states=[]\n",
    "for i in range(1281):\n",
    "    if dat.iloc[i,1] not in states:\n",
    "        states.append(dat.iloc[i,1])"
   ]
  },
  {
   "cell_type": "code",
   "execution_count": 10,
   "metadata": {
    "scrolled": true
   },
   "outputs": [
    {
     "data": {
      "text/plain": [
       "['Washington',\n",
       " 'Illinois',\n",
       " 'California',\n",
       " 'Arizona',\n",
       " 'Massachusetts',\n",
       " 'Wisconsin',\n",
       " 'Texas',\n",
       " 'Nebraska',\n",
       " 'Utah',\n",
       " 'Oregon',\n",
       " 'Florida',\n",
       " 'New York',\n",
       " 'Rhode Island',\n",
       " 'Georgia',\n",
       " 'New Hampshire',\n",
       " 'North Carolina',\n",
       " 'New Jersey',\n",
       " 'Colorado',\n",
       " 'Maryland',\n",
       " 'Nevada',\n",
       " 'Tennessee',\n",
       " 'Hawaii',\n",
       " 'Indiana',\n",
       " 'Kentucky',\n",
       " 'Minnesota',\n",
       " 'Oklahoma',\n",
       " 'Pennsylvania',\n",
       " 'South Carolina',\n",
       " 'District of Columbia',\n",
       " 'Kansas',\n",
       " 'Missouri',\n",
       " 'Vermont',\n",
       " 'Virginia',\n",
       " 'Connecticut',\n",
       " 'Iowa',\n",
       " 'Louisiana',\n",
       " 'Ohio',\n",
       " 'Michigan',\n",
       " 'South Dakota',\n",
       " 'Arkansas',\n",
       " 'Delaware',\n",
       " 'Mississippi',\n",
       " 'New Mexico',\n",
       " 'North Dakota',\n",
       " 'Wyoming',\n",
       " 'Alaska',\n",
       " 'Maine',\n",
       " 'Alabama',\n",
       " 'Idaho',\n",
       " 'Montana',\n",
       " 'Puerto Rico',\n",
       " 'Virgin Islands',\n",
       " 'Guam',\n",
       " 'West Virginia']"
      ]
     },
     "execution_count": 10,
     "metadata": {},
     "output_type": "execute_result"
    }
   ],
   "source": [
    "states"
   ]
  },
  {
   "cell_type": "code",
   "execution_count": 11,
   "metadata": {},
   "outputs": [
    {
     "data": {
      "text/plain": [
       "54"
      ]
     },
     "execution_count": 11,
     "metadata": {},
     "output_type": "execute_result"
    }
   ],
   "source": [
    "len(states)"
   ]
  },
  {
   "cell_type": "code",
   "execution_count": 12,
   "metadata": {},
   "outputs": [
    {
     "data": {
      "text/plain": [
       "0"
      ]
     },
     "execution_count": 12,
     "metadata": {},
     "output_type": "execute_result"
    }
   ],
   "source": [
    "len(dat_state)-1"
   ]
  },
  {
   "cell_type": "code",
   "execution_count": 33,
   "metadata": {},
   "outputs": [
    {
     "data": {
      "text/plain": [
       "['Washington',\n",
       " 'Illinois',\n",
       " 'California',\n",
       " 'Arizona',\n",
       " 'Massachusetts',\n",
       " 'Wisconsin',\n",
       " 'Texas',\n",
       " 'Nebraska',\n",
       " 'Utah',\n",
       " 'Oregon',\n",
       " 'Florida',\n",
       " 'New York',\n",
       " 'Rhode Island',\n",
       " 'Georgia',\n",
       " 'New Hampshire',\n",
       " 'North Carolina',\n",
       " 'New Jersey',\n",
       " 'Colorado',\n",
       " 'Maryland',\n",
       " 'Nevada',\n",
       " 'Tennessee',\n",
       " 'Hawaii',\n",
       " 'Indiana',\n",
       " 'Kentucky',\n",
       " 'Minnesota',\n",
       " 'Oklahoma',\n",
       " 'Pennsylvania',\n",
       " 'South Carolina',\n",
       " 'District of Columbia',\n",
       " 'Kansas',\n",
       " 'Missouri',\n",
       " 'Vermont',\n",
       " 'Virginia',\n",
       " 'Connecticut',\n",
       " 'Iowa',\n",
       " 'Louisiana',\n",
       " 'Ohio',\n",
       " 'Michigan',\n",
       " 'South Dakota',\n",
       " 'Arkansas',\n",
       " 'Delaware',\n",
       " 'Mississippi',\n",
       " 'New Mexico',\n",
       " 'North Dakota',\n",
       " 'Wyoming',\n",
       " 'Alaska',\n",
       " 'Maine',\n",
       " 'Alabama',\n",
       " 'Idaho',\n",
       " 'Montana',\n",
       " 'Puerto Rico',\n",
       " 'Virgin Islands',\n",
       " 'Guam',\n",
       " 'West Virginia',\n",
       " 'Northern Mariana Islands',\n",
       " 'American Samoa']"
      ]
     },
     "execution_count": 33,
     "metadata": {},
     "output_type": "execute_result"
    }
   ],
   "source": [
    "states"
   ]
  },
  {
   "cell_type": "code",
   "execution_count": 36,
   "metadata": {},
   "outputs": [
    {
     "data": {
      "image/png": "[encoded data removed]",
      "text/plain": [
       "<Figure size 432x288 with 1 Axes>"
      ]
     },
     "metadata": {
      "needs_background": "light"
     },
     "output_type": "display_data"
    }
   ],
   "source": [
    "from random import randint\n",
    "state=['Illinois','Puerto Rico','Texas','New York','Utah']\n",
    "d=len(state)\n",
    "for u in range(d):\n",
    "    dat_state = []\n",
    "    dat_deaths=[]\n",
    "    dat_rate = []\n",
    "    for i in range(dat.shape[0]):\n",
    "        if dat.iloc[i,1] == states[u]:\n",
    "            dat_state.append(dat.iloc[i, 3]) \n",
    "            dat_deaths.append(dat.iloc[i,4])\n",
    "            dat_rate.append(dat.iloc[i,4]/dat.iloc[i,3])\n",
    "            \n",
    "    plt.plot(dat_state)       \n",
    "    plt.plot(dat_rate)\n",
    "    plt.ylabel('Test Positive Cases')\n",
    "    #plt.title(states[u])\n",
    "plt.legend(state)\n",
    "plt.show()"
   ]
  },
  {
   "cell_type": "code",
   "execution_count": null,
   "metadata": {},
   "outputs": [],
   "source": [
    " dat_state = []"
   ]
  }
 ],
 "metadata": {
  "kernelspec": {
   "display_name": "Python 3",
   "language": "python",
   "name": "python3"
  },
  "language_info": {
   "codemirror_mode": {
    "name": "ipython",
    "version": 3
   },
   "file_extension": ".py",
   "mimetype": "text/x-python",
   "name": "python",
   "nbconvert_exporter": "python",
   "pygments_lexer": "ipython3",
   "version": "3.7.4"
  }
 },
 "nbformat": 4,
 "nbformat_minor": 2
}
